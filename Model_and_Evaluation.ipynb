{
 "cells": [
  {
   "cell_type": "markdown",
   "metadata": {},
   "source": [
    "# Model Building "
   ]
  },
  {
   "cell_type": "markdown",
   "metadata": {},
   "source": [
    "## Load Libraries & Data"
   ]
  },
  {
   "cell_type": "code",
   "execution_count": 1,
   "metadata": {},
   "outputs": [],
   "source": [
    "import category_encoders as ce\n",
    "from sklearn.model_selection import train_test_split\n",
    "from sklearn.ensemble import RandomForestClassifier\n",
    "from sklearn.metrics import classification_report, accuracy_score, confusion_matrix\n",
    "from sklearn.model_selection import cross_val_score, cross_val_predict, StratifiedKFold\n",
    "from sklearn.metrics import roc_auc_score, roc_curve, auc\n",
    "from sklearn.metrics import precision_recall_curve, average_precision_score\n",
    "import pandas as pd"
   ]
  },
  {
   "cell_type": "code",
   "execution_count": 2,
   "metadata": {},
   "outputs": [],
   "source": [
    "transaction_df = pd.read_csv(\"Cleaned_data.csv\")"
   ]
  },
  {
   "cell_type": "code",
   "execution_count": 3,
   "metadata": {},
   "outputs": [
    {
     "data": {
      "text/html": [
       "<div>\n",
       "<style scoped>\n",
       "    .dataframe tbody tr th:only-of-type {\n",
       "        vertical-align: middle;\n",
       "    }\n",
       "\n",
       "    .dataframe tbody tr th {\n",
       "        vertical-align: top;\n",
       "    }\n",
       "\n",
       "    .dataframe thead th {\n",
       "        text-align: right;\n",
       "    }\n",
       "</style>\n",
       "<table border=\"1\" class=\"dataframe\">\n",
       "  <thead>\n",
       "    <tr style=\"text-align: right;\">\n",
       "      <th></th>\n",
       "      <th>tmsp</th>\n",
       "      <th>country</th>\n",
       "      <th>amount</th>\n",
       "      <th>success</th>\n",
       "      <th>PSP</th>\n",
       "      <th>3D_secured</th>\n",
       "      <th>card</th>\n",
       "      <th>year</th>\n",
       "      <th>month</th>\n",
       "      <th>day</th>\n",
       "      <th>hour</th>\n",
       "      <th>minute</th>\n",
       "      <th>day_of_week</th>\n",
       "      <th>week_of_year</th>\n",
       "      <th>day_of_year</th>\n",
       "      <th>payment_attempt</th>\n",
       "      <th>is_PSP_changed</th>\n",
       "      <th>diff_in_secs</th>\n",
       "      <th>server_load</th>\n",
       "      <th>isof_flag</th>\n",
       "    </tr>\n",
       "  </thead>\n",
       "  <tbody>\n",
       "    <tr>\n",
       "      <th>0</th>\n",
       "      <td>2019-01-01 00:28:56</td>\n",
       "      <td>Switzerland</td>\n",
       "      <td>277</td>\n",
       "      <td>1</td>\n",
       "      <td>Goldcard</td>\n",
       "      <td>0</td>\n",
       "      <td>Diners</td>\n",
       "      <td>2019</td>\n",
       "      <td>1</td>\n",
       "      <td>1</td>\n",
       "      <td>0</td>\n",
       "      <td>28</td>\n",
       "      <td>1</td>\n",
       "      <td>1</td>\n",
       "      <td>1</td>\n",
       "      <td>1</td>\n",
       "      <td>0</td>\n",
       "      <td>0</td>\n",
       "      <td>NaN</td>\n",
       "      <td>-1</td>\n",
       "    </tr>\n",
       "    <tr>\n",
       "      <th>1</th>\n",
       "      <td>2019-01-01 00:41:43</td>\n",
       "      <td>Austria</td>\n",
       "      <td>34</td>\n",
       "      <td>0</td>\n",
       "      <td>Goldcard</td>\n",
       "      <td>0</td>\n",
       "      <td>Visa</td>\n",
       "      <td>2019</td>\n",
       "      <td>1</td>\n",
       "      <td>1</td>\n",
       "      <td>0</td>\n",
       "      <td>41</td>\n",
       "      <td>1</td>\n",
       "      <td>1</td>\n",
       "      <td>1</td>\n",
       "      <td>3</td>\n",
       "      <td>1</td>\n",
       "      <td>18</td>\n",
       "      <td>1.0</td>\n",
       "      <td>-1</td>\n",
       "    </tr>\n",
       "    <tr>\n",
       "      <th>2</th>\n",
       "      <td>2019-01-01 01:01:46</td>\n",
       "      <td>Germany</td>\n",
       "      <td>257</td>\n",
       "      <td>0</td>\n",
       "      <td>Goldcard</td>\n",
       "      <td>1</td>\n",
       "      <td>Master</td>\n",
       "      <td>2019</td>\n",
       "      <td>1</td>\n",
       "      <td>1</td>\n",
       "      <td>1</td>\n",
       "      <td>1</td>\n",
       "      <td>1</td>\n",
       "      <td>1</td>\n",
       "      <td>1</td>\n",
       "      <td>2</td>\n",
       "      <td>1</td>\n",
       "      <td>2</td>\n",
       "      <td>1.0</td>\n",
       "      <td>1</td>\n",
       "    </tr>\n",
       "    <tr>\n",
       "      <th>3</th>\n",
       "      <td>2019-01-01 01:19:43</td>\n",
       "      <td>Germany</td>\n",
       "      <td>310</td>\n",
       "      <td>0</td>\n",
       "      <td>Goldcard</td>\n",
       "      <td>0</td>\n",
       "      <td>Visa</td>\n",
       "      <td>2019</td>\n",
       "      <td>1</td>\n",
       "      <td>1</td>\n",
       "      <td>1</td>\n",
       "      <td>19</td>\n",
       "      <td>1</td>\n",
       "      <td>1</td>\n",
       "      <td>1</td>\n",
       "      <td>1</td>\n",
       "      <td>0</td>\n",
       "      <td>0</td>\n",
       "      <td>1.0</td>\n",
       "      <td>1</td>\n",
       "    </tr>\n",
       "    <tr>\n",
       "      <th>4</th>\n",
       "      <td>2019-01-01 01:36:57</td>\n",
       "      <td>Germany</td>\n",
       "      <td>192</td>\n",
       "      <td>0</td>\n",
       "      <td>Goldcard</td>\n",
       "      <td>1</td>\n",
       "      <td>Diners</td>\n",
       "      <td>2019</td>\n",
       "      <td>1</td>\n",
       "      <td>1</td>\n",
       "      <td>1</td>\n",
       "      <td>36</td>\n",
       "      <td>1</td>\n",
       "      <td>1</td>\n",
       "      <td>1</td>\n",
       "      <td>1</td>\n",
       "      <td>1</td>\n",
       "      <td>0</td>\n",
       "      <td>1.0</td>\n",
       "      <td>1</td>\n",
       "    </tr>\n",
       "  </tbody>\n",
       "</table>\n",
       "</div>"
      ],
      "text/plain": [
       "                  tmsp      country  amount  success       PSP  3D_secured  \\\n",
       "0  2019-01-01 00:28:56  Switzerland     277        1  Goldcard           0   \n",
       "1  2019-01-01 00:41:43      Austria      34        0  Goldcard           0   \n",
       "2  2019-01-01 01:01:46      Germany     257        0  Goldcard           1   \n",
       "3  2019-01-01 01:19:43      Germany     310        0  Goldcard           0   \n",
       "4  2019-01-01 01:36:57      Germany     192        0  Goldcard           1   \n",
       "\n",
       "     card  year  month  day  hour  minute  day_of_week  week_of_year  \\\n",
       "0  Diners  2019      1    1     0      28            1             1   \n",
       "1    Visa  2019      1    1     0      41            1             1   \n",
       "2  Master  2019      1    1     1       1            1             1   \n",
       "3    Visa  2019      1    1     1      19            1             1   \n",
       "4  Diners  2019      1    1     1      36            1             1   \n",
       "\n",
       "   day_of_year  payment_attempt  is_PSP_changed  diff_in_secs  server_load  \\\n",
       "0            1                1               0             0          NaN   \n",
       "1            1                3               1            18          1.0   \n",
       "2            1                2               1             2          1.0   \n",
       "3            1                1               0             0          1.0   \n",
       "4            1                1               1             0          1.0   \n",
       "\n",
       "   isof_flag  \n",
       "0         -1  \n",
       "1         -1  \n",
       "2          1  \n",
       "3          1  \n",
       "4          1  "
      ]
     },
     "execution_count": 3,
     "metadata": {},
     "output_type": "execute_result"
    }
   ],
   "source": [
    "transaction_df.head()"
   ]
  },
  {
   "cell_type": "code",
   "execution_count": 4,
   "metadata": {},
   "outputs": [
    {
     "data": {
      "text/plain": [
       "Index(['tmsp', 'country', 'amount', 'success', 'PSP', '3D_secured', 'card',\n",
       "       'year', 'month', 'day', 'hour', 'minute', 'day_of_week', 'week_of_year',\n",
       "       'day_of_year', 'payment_attempt', 'is_PSP_changed', 'diff_in_secs',\n",
       "       'server_load', 'isof_flag'],\n",
       "      dtype='object')"
      ]
     },
     "execution_count": 4,
     "metadata": {},
     "output_type": "execute_result"
    }
   ],
   "source": [
    "transaction_df.columns"
   ]
  },
  {
   "cell_type": "code",
   "execution_count": null,
   "metadata": {},
   "outputs": [],
   "source": []
  },
  {
   "cell_type": "markdown",
   "metadata": {},
   "source": [
    "## Identify feature types"
   ]
  },
  {
   "cell_type": "code",
   "execution_count": 5,
   "metadata": {},
   "outputs": [],
   "source": [
    "# Category columns \n",
    "\n",
    "cat_cols = ['country', 'PSP', 'card','isof_flag','is_PSP_changed']\n",
    "num_cols = ['amount', 'month','day', 'hour', 'minute','day_of_week','week_of_year','day_of_year', \n",
    "            'payment_attempt','diff_in_secs']\n",
    "target_col = 'success'"
   ]
  },
  {
   "cell_type": "code",
   "execution_count": 6,
   "metadata": {},
   "outputs": [],
   "source": [
    "x_feats = cat_cols + num_cols"
   ]
  },
  {
   "cell_type": "markdown",
   "metadata": {},
   "source": [
    "## Train Test Split"
   ]
  },
  {
   "cell_type": "code",
   "execution_count": 7,
   "metadata": {},
   "outputs": [],
   "source": [
    "# Train Test Split\n",
    "stratify_cols = ['PSP','success']\n",
    "X_train, X_test, y_train, y_test = train_test_split(transaction_df[x_feats], transaction_df[target_col], test_size=0.15, random_state=42,stratify=transaction_df[stratify_cols])\n"
   ]
  },
  {
   "cell_type": "code",
   "execution_count": 8,
   "metadata": {},
   "outputs": [
    {
     "data": {
      "text/plain": [
       "3.9284564067172765"
      ]
     },
     "execution_count": 8,
     "metadata": {},
     "output_type": "execute_result"
    }
   ],
   "source": [
    "# Calculate scale_pos_weight\n",
    "\n",
    "scale_pos_weight = y_train.value_counts()[0]/y_train.value_counts()[1]\n",
    "\n",
    "scale_pos_weight"
   ]
  },
  {
   "cell_type": "code",
   "execution_count": 9,
   "metadata": {},
   "outputs": [],
   "source": [
    "## Model Selection\n",
    "\n",
    "from sklearn.ensemble import RandomForestClassifier, ExtraTreesClassifier\n",
    "from sklearn.linear_model import LogisticRegression\n",
    "from xgboost import XGBClassifier\n",
    "from catboost import CatBoostClassifier\n",
    "from sklearn.neural_network import MLPClassifier\n",
    "from lightgbm import LGBMClassifier\n",
    "from sklearn.model_selection import cross_val_score, StratifiedKFold\n",
    "from sklearn.metrics import roc_curve, auc\n",
    "import matplotlib.pyplot as plt\n",
    "from sklearn.preprocessing import StandardScaler\n",
    "\n",
    "\n",
    "clf_models_dict = {\n",
    "                   \"CatBoost\": CatBoostClassifier(random_state=42, verbose=0,cat_features=cat_cols,auto_class_weights='Balanced',iterations=300,early_stopping_rounds=10),\n",
    "                   \"XGBoost\": XGBClassifier(random_state=42, tree_method='hist',enable_categorical=True,scale_pos_weight=scale_pos_weight),\n",
    "                   \"RandomForest\": RandomForestClassifier(n_estimators=100, random_state=42,class_weight='balanced'),\n",
    "                   \"ExtraTrees\": ExtraTreesClassifier(n_estimators=100, random_state=42,class_weight='balanced'),\n",
    "                   \"LogisticRegression\": LogisticRegression(random_state=42,class_weight='balanced'),\n",
    "                   \"MLP\": MLPClassifier(random_state=42),\n",
    "                   \"LGBM\": LGBMClassifier(random_state=42,verbose=-1)\n",
    "                   \n",
    "                   }"
   ]
  },
  {
   "cell_type": "code",
   "execution_count": 10,
   "metadata": {},
   "outputs": [
    {
     "name": "stdout",
     "output_type": "stream",
     "text": [
      "Building with  CatBoost\n",
      "Model Name: CatBoost\n",
      "Training ROC AUC Score: 0.65\n",
      "Test ROC AUC Score: 0.65\n",
      "              precision    recall  f1-score   support\n",
      "\n",
      "           0       0.86      0.62      0.72      6028\n",
      "           1       0.29      0.60      0.39      1534\n",
      "\n",
      "    accuracy                           0.62      7562\n",
      "   macro avg       0.57      0.61      0.55      7562\n",
      "weighted avg       0.74      0.62      0.65      7562\n",
      "\n",
      "Test F1 Score :0.38890056758461217\n",
      "Building with  XGBoost\n",
      "Model Name: XGBoost\n",
      "Training ROC AUC Score: 0.63\n",
      "Test ROC AUC Score: 0.64\n",
      "              precision    recall  f1-score   support\n",
      "\n",
      "           0       0.85      0.69      0.76      6028\n",
      "           1       0.30      0.51      0.37      1534\n",
      "\n",
      "    accuracy                           0.65      7562\n",
      "   macro avg       0.57      0.60      0.57      7562\n",
      "weighted avg       0.74      0.65      0.68      7562\n",
      "\n",
      "Test F1 Score :0.37482048827190045\n",
      "Building with  RandomForest\n",
      "Model Name: RandomForest\n",
      "Training ROC AUC Score: 0.63\n",
      "Test ROC AUC Score: 0.62\n",
      "              precision    recall  f1-score   support\n",
      "\n",
      "           0       0.80      0.98      0.88      6028\n",
      "           1       0.39      0.06      0.10      1534\n",
      "\n",
      "    accuracy                           0.79      7562\n",
      "   macro avg       0.60      0.52      0.49      7562\n",
      "weighted avg       0.72      0.79      0.72      7562\n",
      "\n",
      "Test F1 Score :0.098005698005698\n",
      "Building with  ExtraTrees\n",
      "Model Name: ExtraTrees\n",
      "Training ROC AUC Score: 0.60\n",
      "Test ROC AUC Score: 0.60\n",
      "              precision    recall  f1-score   support\n",
      "\n",
      "           0       0.80      0.95      0.87      6028\n",
      "           1       0.32      0.09      0.14      1534\n",
      "\n",
      "    accuracy                           0.78      7562\n",
      "   macro avg       0.56      0.52      0.50      7562\n",
      "weighted avg       0.71      0.78      0.72      7562\n",
      "\n",
      "Test F1 Score :0.13701431492842536\n",
      "Building with  LogisticRegression\n",
      "Model Name: LogisticRegression\n",
      "Training ROC AUC Score: 0.61\n",
      "Test ROC AUC Score: 0.61\n",
      "              precision    recall  f1-score   support\n",
      "\n",
      "           0       0.84      0.63      0.72      6028\n",
      "           1       0.27      0.53      0.36      1534\n",
      "\n",
      "    accuracy                           0.61      7562\n",
      "   macro avg       0.55      0.58      0.54      7562\n",
      "weighted avg       0.73      0.61      0.65      7562\n",
      "\n",
      "Test F1 Score :0.35675202451302257\n",
      "Building with  MLP\n"
     ]
    },
    {
     "name": "stderr",
     "output_type": "stream",
     "text": [
      "d:\\ProgramData\\anaconda3\\envs\\mlcpu\\Lib\\site-packages\\sklearn\\neural_network\\_multilayer_perceptron.py:691: ConvergenceWarning: Stochastic Optimizer: Maximum iterations (200) reached and the optimization hasn't converged yet.\n",
      "  warnings.warn(\n",
      "d:\\ProgramData\\anaconda3\\envs\\mlcpu\\Lib\\site-packages\\sklearn\\neural_network\\_multilayer_perceptron.py:691: ConvergenceWarning: Stochastic Optimizer: Maximum iterations (200) reached and the optimization hasn't converged yet.\n",
      "  warnings.warn(\n"
     ]
    },
    {
     "name": "stdout",
     "output_type": "stream",
     "text": [
      "Model Name: MLP\n",
      "Training ROC AUC Score: 0.61\n",
      "Test ROC AUC Score: 0.61\n",
      "              precision    recall  f1-score   support\n",
      "\n",
      "           0       0.80      0.99      0.89      6028\n",
      "           1       0.49      0.05      0.09      1534\n",
      "\n",
      "    accuracy                           0.80      7562\n",
      "   macro avg       0.65      0.52      0.49      7562\n",
      "weighted avg       0.74      0.80      0.72      7562\n",
      "\n",
      "Test F1 Score :0.09422850412249706\n",
      "Building with  LGBM\n",
      "Model Name: LGBM\n",
      "Training ROC AUC Score: 0.67\n",
      "Test ROC AUC Score: 0.66\n",
      "              precision    recall  f1-score   support\n",
      "\n",
      "           0       0.80      0.99      0.89      6028\n",
      "           1       0.55      0.04      0.08      1534\n",
      "\n",
      "    accuracy                           0.80      7562\n",
      "   macro avg       0.68      0.52      0.48      7562\n",
      "weighted avg       0.75      0.80      0.72      7562\n",
      "\n",
      "Test F1 Score :0.07757575757575758\n",
      "CatBoost: 0.65\n",
      "XGBoost: 0.63\n",
      "RandomForest: 0.63\n",
      "ExtraTrees: 0.60\n",
      "LogisticRegression: 0.61\n",
      "MLP: 0.61\n",
      "LGBM: 0.67\n"
     ]
    },
    {
     "data": {
      "image/png": "[encoded data removed]",
      "text/plain": [
       "<Figure size 1000x1000 with 1 Axes>"
      ]
     },
     "metadata": {},
     "output_type": "display_data"
    }
   ],
   "source": [
    "from sklearn.metrics import roc_curve, roc_auc_score, f1_score\n",
    "\n",
    "# Initialize a figure for the ROC curves\n",
    "plt.figure(figsize=(10, 10))\n",
    "results = {}\n",
    "for model_name, model_func in clf_models_dict.items():\n",
    "\n",
    "    if model_name in [\"RandomForest\", \"ExtraTrees\", \"LogisticRegression\", \"MLP\"]:\n",
    "        # Convert categorical columns to one-hot encoding and normalize numerical columns\n",
    "        oh_encoder = ce.OneHotEncoder(cols=cat_cols)\n",
    "        X_train1 = oh_encoder.fit_transform(X_train)\n",
    "        X_test1 = oh_encoder.transform(X_test)\n",
    "\n",
    "        # Normalize the numerical columns\n",
    "        scaler = StandardScaler()\n",
    "        X_train_norm = scaler.fit_transform(X_train1)\n",
    "        X_test_norm = scaler.transform(X_test1)\n",
    "\n",
    "    else:\n",
    "        for col in cat_cols:\n",
    "            X_train[col] = X_train[col].astype('category')\n",
    "            X_test[col] = X_test[col].astype('category')\n",
    "        X_train_norm = X_train\n",
    "        X_test_norm = X_test\n",
    "\n",
    "    print(\"Building with \", model_name)\n",
    "    model = model_func\n",
    "    # Compute cross-validation score\n",
    "    stratified_kfold = StratifiedKFold(n_splits=5, shuffle=True, random_state=42)\n",
    "    cv_score = cross_val_score(model_func, X_train_norm, y_train, cv=stratified_kfold, scoring='roc_auc')\n",
    "\n",
    "    # Save the cross-validation score in the results dictionary\n",
    "    results[model_name] = cv_score.mean()\n",
    "\n",
    "    # Fit the model and compute ROC curve\n",
    "    model.fit(X_train_norm, y_train)\n",
    "    y_score = model.predict_proba(X_test_norm)[:, 1]\n",
    "    fpr, tpr, _ = roc_curve(y_test, y_score)\n",
    "    roc_auc = roc_auc_score(y_test, y_score)\n",
    "\n",
    "    # Print Report\n",
    "    print(f'Model Name: {model_name}')\n",
    "    print(f'Training ROC AUC Score: {cv_score.mean():.2f}')\n",
    "    print(f'Test ROC AUC Score: {roc_auc:.2f}')\n",
    "    print(classification_report(y_test, model.predict(X_test_norm)))\n",
    "    print(f'Test F1 Score :{f1_score(y_test, model.predict(X_test_norm))}')\n",
    "\n",
    "    # Plot ROC curve\n",
    "    plt.plot(fpr, tpr, label=f'{model_name} (AUC = {roc_auc:.2f})')\n",
    "\n",
    "# Print the results\n",
    "for model_name, cv_score in results.items():\n",
    "    print(f'{model_name}: {cv_score:.2f}')\n",
    "\n",
    "# Finalize the ROC curves plot\n",
    "plt.xlabel('False Positive Rate')\n",
    "plt.ylabel('True Positive Rate')\n",
    "plt.title('Receiver Operating Characteristic Curve')\n",
    "plt.legend(loc=\"lower right\")\n",
    "plt.show()"
   ]
  },
  {
   "cell_type": "markdown",
   "metadata": {},
   "source": [
    "Model Selection: \n",
    "\n",
    "-  Catboost, XGBoost and LGBM have similar better performance over the other models. Since catboost offers more features and is more robust, we will use catboost for the final model for fine tunings. "
   ]
  },
  {
   "cell_type": "markdown",
   "metadata": {},
   "source": []
  },
  {
   "cell_type": "markdown",
   "metadata": {},
   "source": [
    "## Feature selection. \n",
    "\n",
    "- Out of available features, choose the best features contributing to model. "
   ]
  },
  {
   "cell_type": "code",
   "execution_count": 11,
   "metadata": {},
   "outputs": [],
   "source": [
    "# Select features using catboost using select_features\n",
    "import catboost\n",
    "from catboost import Pool\n",
    "from catboost import CatBoostRegressor, EShapCalcType, EFeaturesSelectionAlgorithm\n",
    "\n",
    "train_pool = Pool(data=X_train, label=y_train, cat_features=cat_cols)\n",
    "test_pool = Pool(data=X_test, label=y_test, cat_features=cat_cols)\n",
    "\n",
    "\n",
    "def select_features_syntetic(algorithm: EFeaturesSelectionAlgorithm, steps: int = 1):\n",
    "    print('Algorithm:', algorithm)\n",
    "    model = CatBoostRegressor(iterations=1000, random_seed=0)\n",
    "    summary = model.select_features(\n",
    "        train_pool,\n",
    "        eval_set=test_pool,\n",
    "        features_for_select=list(range(X_train.shape[1])),     # we will select from all features\n",
    "        num_features_to_select=7,  # we want to select exactly important features\n",
    "        steps=steps,                                     # more steps - more accurate selection\n",
    "        algorithm=algorithm,\n",
    "        shap_calc_type=EShapCalcType.Regular,            # can be Approximate, Regular and Exact\n",
    "        train_final_model=True,                          # to train model with selected features\n",
    "        logging_level='Silent',\n",
    "        plot=True\n",
    "    )\n",
    "    return summary"
   ]
  },
  {
   "cell_type": "code",
   "execution_count": null,
   "metadata": {},
   "outputs": [],
   "source": []
  },
  {
   "cell_type": "code",
   "execution_count": 12,
   "metadata": {},
   "outputs": [
    {
     "name": "stdout",
     "output_type": "stream",
     "text": [
      "Algorithm: EFeaturesSelectionAlgorithm.RecursiveByShapValues\n"
     ]
    },
    {
     "data": {
      "application/vnd.jupyter.widget-view+json": {
       "model_id": "2d287478fbe0485da60ae499945025b6",
       "version_major": 2,
       "version_minor": 0
      },
      "text/plain": [
       "MetricVisualizer(layout=Layout(align_self='stretch', height='500px'))"
      ]
     },
     "metadata": {},
     "output_type": "display_data"
    },
    {
     "data": {
      "application/vnd.plotly.v1+json": {
       "config": {
        "plotlyServerURL": "https://plot.ly"
       },
       "data": [
        {
         "line": {
          "color": "rgb(51,160,44)"
         },
         "mode": "lines+markers",
         "name": "",
         "text": [
          "",
          "country",
          "week_of_year",
          "is_PSP_changed",
          "month",
          "minute",
          "day_of_year",
          "payment_attempt",
          "diff_in_secs"
         ],
         "type": "scatter",
         "x": [
          0,
          1,
          2,
          3,
          4,
          5,
          6,
          7,
          8
         ],
         "y": [
          0.3895851267088979,
          0.3893043804744594,
          0.38923467132750444,
          0.38923985517696197,
          0.3892456603481072,
          0.38926770204359795,
          0.3894099043078825,
          0.3897215580000026,
          0.39029153994143184
         ]
        },
        {
         "marker": {
          "size": 10,
          "symbol": "square"
         },
         "mode": "markers",
         "name": "",
         "text": [
          "",
          "diff_in_secs"
         ],
         "type": "scatter",
         "x": [
          0,
          8
         ],
         "y": [
          0.3895851267088979,
          0.39029153994143184
         ]
        },
        {
         "mode": "text",
         "name": "",
         "text": [
          "",
          "0",
          "11",
          "4",
          "6",
          "9",
          "12",
          "13",
          "14"
         ],
         "textfont": {
          "color": "rgb(51,160,44)",
          "family": "sans serif",
          "size": 18
         },
         "textposition": "bottom center",
         "type": "scatter",
         "visible": false,
         "x": [
          0,
          1,
          2,
          3,
          4,
          5,
          6,
          7,
          8
         ],
         "y": [
          0.3895851267088979,
          0.3893043804744594,
          0.38923467132750444,
          0.38923985517696197,
          0.3892456603481072,
          0.38926770204359795,
          0.3894099043078825,
          0.3897215580000026,
          0.39029153994143184
         ]
        },
        {
         "mode": "text",
         "name": "",
         "text": [
          "",
          "country",
          "week_of_year",
          "is_PSP_changed",
          "month",
          "minute",
          "day_of_year",
          "payment_attempt",
          "diff_in_secs"
         ],
         "textfont": {
          "color": "rgb(51,160,44)",
          "family": "sans serif",
          "size": 18
         },
         "textposition": "bottom center",
         "type": "scatter",
         "visible": false,
         "x": [
          0,
          1,
          2,
          3,
          4,
          5,
          6,
          7,
          8
         ],
         "y": [
          0.3895851267088979,
          0.3893043804744594,
          0.38923467132750444,
          0.38923985517696197,
          0.3892456603481072,
          0.38926770204359795,
          0.3894099043078825,
          0.3897215580000026,
          0.39029153994143184
         ]
        }
       ],
       "layout": {
        "showlegend": false,
        "template": {
         "data": {
          "bar": [
           {
            "error_x": {
             "color": "#2a3f5f"
            },
            "error_y": {
             "color": "#2a3f5f"
            },
            "marker": {
             "line": {
              "color": "#E5ECF6",
              "width": 0.5
             },
             "pattern": {
              "fillmode": "overlay",
              "size": 10,
              "solidity": 0.2
             }
            },
            "type": "bar"
           }
          ],
          "barpolar": [
           {
            "marker": {
             "line": {
              "color": "#E5ECF6",
              "width": 0.5
             },
             "pattern": {
              "fillmode": "overlay",
              "size": 10,
              "solidity": 0.2
             }
            },
            "type": "barpolar"
           }
          ],
          "carpet": [
           {
            "aaxis": {
             "endlinecolor": "#2a3f5f",
             "gridcolor": "white",
             "linecolor": "white",
             "minorgridcolor": "white",
             "startlinecolor": "#2a3f5f"
            },
            "baxis": {
             "endlinecolor": "#2a3f5f",
             "gridcolor": "white",
             "linecolor": "white",
             "minorgridcolor": "white",
             "startlinecolor": "#2a3f5f"
            },
            "type": "carpet"
           }
          ],
          "choropleth": [
           {
            "colorbar": {
             "outlinewidth": 0,
             "ticks": ""
            },
            "type": "choropleth"
           }
          ],
          "contour": [
           {
            "colorbar": {
             "outlinewidth": 0,
             "ticks": ""
            },
            "colorscale": [
             [
              0,
              "#0d0887"
             ],
             [
              0.1111111111111111,
              "#46039f"
             ],
             [
              0.2222222222222222,
              "#7201a8"
             ],
             [
              0.3333333333333333,
              "#9c179e"
             ],
             [
              0.4444444444444444,
              "#bd3786"
             ],
             [
              0.5555555555555556,
              "#d8576b"
             ],
             [
              0.6666666666666666,
              "#ed7953"
             ],
             [
              0.7777777777777778,
              "#fb9f3a"
             ],
             [
              0.8888888888888888,
              "#fdca26"
             ],
             [
              1,
              "#f0f921"
             ]
            ],
            "type": "contour"
           }
          ],
          "contourcarpet": [
           {
            "colorbar": {
             "outlinewidth": 0,
             "ticks": ""
            },
            "type": "contourcarpet"
           }
          ],
          "heatmap": [
           {
            "colorbar": {
             "outlinewidth": 0,
             "ticks": ""
            },
            "colorscale": [
             [
              0,
              "#0d0887"
             ],
             [
              0.1111111111111111,
              "#46039f"
             ],
             [
              0.2222222222222222,
              "#7201a8"
             ],
             [
              0.3333333333333333,
              "#9c179e"
             ],
             [
              0.4444444444444444,
              "#bd3786"
             ],
             [
              0.5555555555555556,
              "#d8576b"
             ],
             [
              0.6666666666666666,
              "#ed7953"
             ],
             [
              0.7777777777777778,
              "#fb9f3a"
             ],
             [
              0.8888888888888888,
              "#fdca26"
             ],
             [
              1,
              "#f0f921"
             ]
            ],
            "type": "heatmap"
           }
          ],
          "heatmapgl": [
           {
            "colorbar": {
             "outlinewidth": 0,
             "ticks": ""
            },
            "colorscale": [
             [
              0,
              "#0d0887"
             ],
             [
              0.1111111111111111,
              "#46039f"
             ],
             [
              0.2222222222222222,
              "#7201a8"
             ],
             [
              0.3333333333333333,
              "#9c179e"
             ],
             [
              0.4444444444444444,
              "#bd3786"
             ],
             [
              0.5555555555555556,
              "#d8576b"
             ],
             [
              0.6666666666666666,
              "#ed7953"
             ],
             [
              0.7777777777777778,
              "#fb9f3a"
             ],
             [
              0.8888888888888888,
              "#fdca26"
             ],
             [
              1,
              "#f0f921"
             ]
            ],
            "type": "heatmapgl"
           }
          ],
          "histogram": [
           {
            "marker": {
             "pattern": {
              "fillmode": "overlay",
              "size": 10,
              "solidity": 0.2
             }
            },
            "type": "histogram"
           }
          ],
          "histogram2d": [
           {
            "colorbar": {
             "outlinewidth": 0,
             "ticks": ""
            },
            "colorscale": [
             [
              0,
              "#0d0887"
             ],
             [
              0.1111111111111111,
              "#46039f"
             ],
             [
              0.2222222222222222,
              "#7201a8"
             ],
             [
              0.3333333333333333,
              "#9c179e"
             ],
             [
              0.4444444444444444,
              "#bd3786"
             ],
             [
              0.5555555555555556,
              "#d8576b"
             ],
             [
              0.6666666666666666,
              "#ed7953"
             ],
             [
              0.7777777777777778,
              "#fb9f3a"
             ],
             [
              0.8888888888888888,
              "#fdca26"
             ],
             [
              1,
              "#f0f921"
             ]
            ],
            "type": "histogram2d"
           }
          ],
          "histogram2dcontour": [
           {
            "colorbar": {
             "outlinewidth": 0,
             "ticks": ""
            },
            "colorscale": [
             [
              0,
              "#0d0887"
             ],
             [
              0.1111111111111111,
              "#46039f"
             ],
             [
              0.2222222222222222,
              "#7201a8"
             ],
             [
              0.3333333333333333,
              "#9c179e"
             ],
             [
              0.4444444444444444,
              "#bd3786"
             ],
             [
              0.5555555555555556,
              "#d8576b"
             ],
             [
              0.6666666666666666,
              "#ed7953"
             ],
             [
              0.7777777777777778,
              "#fb9f3a"
             ],
             [
              0.8888888888888888,
              "#fdca26"
             ],
             [
              1,
              "#f0f921"
             ]
            ],
            "type": "histogram2dcontour"
           }
          ],
          "mesh3d": [
           {
            "colorbar": {
             "outlinewidth": 0,
             "ticks": ""
            },
            "type": "mesh3d"
           }
          ],
          "parcoords": [
           {
            "line": {
             "colorbar": {
              "outlinewidth": 0,
              "ticks": ""
             }
            },
            "type": "parcoords"
           }
          ],
          "pie": [
           {
            "automargin": true,
            "type": "pie"
           }
          ],
          "scatter": [
           {
            "fillpattern": {
             "fillmode": "overlay",
             "size": 10,
             "solidity": 0.2
            },
            "type": "scatter"
           }
          ],
          "scatter3d": [
           {
            "line": {
             "colorbar": {
              "outlinewidth": 0,
              "ticks": ""
             }
            },
            "marker": {
             "colorbar": {
              "outlinewidth": 0,
              "ticks": ""
             }
            },
            "type": "scatter3d"
           }
          ],
          "scattercarpet": [
           {
            "marker": {
             "colorbar": {
              "outlinewidth": 0,
              "ticks": ""
             }
            },
            "type": "scattercarpet"
           }
          ],
          "scattergeo": [
           {
            "marker": {
             "colorbar": {
              "outlinewidth": 0,
              "ticks": ""
             }
            },
            "type": "scattergeo"
           }
          ],
          "scattergl": [
           {
            "marker": {
             "colorbar": {
              "outlinewidth": 0,
              "ticks": ""
             }
            },
            "type": "scattergl"
           }
          ],
          "scattermapbox": [
           {
            "marker": {
             "colorbar": {
              "outlinewidth": 0,
              "ticks": ""
             }
            },
            "type": "scattermapbox"
           }
          ],
          "scatterpolar": [
           {
            "marker": {
             "colorbar": {
              "outlinewidth": 0,
              "ticks": ""
             }
            },
            "type": "scatterpolar"
           }
          ],
          "scatterpolargl": [
           {
            "marker": {
             "colorbar": {
              "outlinewidth": 0,
              "ticks": ""
             }
            },
            "type": "scatterpolargl"
           }
          ],
          "scatterternary": [
           {
            "marker": {
             "colorbar": {
              "outlinewidth": 0,
              "ticks": ""
             }
            },
            "type": "scatterternary"
           }
          ],
          "surface": [
           {
            "colorbar": {
             "outlinewidth": 0,
             "ticks": ""
            },
            "colorscale": [
             [
              0,
              "#0d0887"
             ],
             [
              0.1111111111111111,
              "#46039f"
             ],
             [
              0.2222222222222222,
              "#7201a8"
             ],
             [
              0.3333333333333333,
              "#9c179e"
             ],
             [
              0.4444444444444444,
              "#bd3786"
             ],
             [
              0.5555555555555556,
              "#d8576b"
             ],
             [
              0.6666666666666666,
              "#ed7953"
             ],
             [
              0.7777777777777778,
              "#fb9f3a"
             ],
             [
              0.8888888888888888,
              "#fdca26"
             ],
             [
              1,
              "#f0f921"
             ]
            ],
            "type": "surface"
           }
          ],
          "table": [
           {
            "cells": {
             "fill": {
              "color": "#EBF0F8"
             },
             "line": {
              "color": "white"
             }
            },
            "header": {
             "fill": {
              "color": "#C8D4E3"
             },
             "line": {
              "color": "white"
             }
            },
            "type": "table"
           }
          ]
         },
         "layout": {
          "annotationdefaults": {
           "arrowcolor": "#2a3f5f",
           "arrowhead": 0,
           "arrowwidth": 1
          },
          "autotypenumbers": "strict",
          "coloraxis": {
           "colorbar": {
            "outlinewidth": 0,
            "ticks": ""
           }
          },
          "colorscale": {
           "diverging": [
            [
             0,
             "#8e0152"
            ],
            [
             0.1,
             "#c51b7d"
            ],
            [
             0.2,
             "#de77ae"
            ],
            [
             0.3,
             "#f1b6da"
            ],
            [
             0.4,
             "#fde0ef"
            ],
            [
             0.5,
             "#f7f7f7"
            ],
            [
             0.6,
             "#e6f5d0"
            ],
            [
             0.7,
             "#b8e186"
            ],
            [
             0.8,
             "#7fbc41"
            ],
            [
             0.9,
             "#4d9221"
            ],
            [
             1,
             "#276419"
            ]
           ],
           "sequential": [
            [
             0,
             "#0d0887"
            ],
            [
             0.1111111111111111,
             "#46039f"
            ],
            [
             0.2222222222222222,
             "#7201a8"
            ],
            [
             0.3333333333333333,
             "#9c179e"
            ],
            [
             0.4444444444444444,
             "#bd3786"
            ],
            [
             0.5555555555555556,
             "#d8576b"
            ],
            [
             0.6666666666666666,
             "#ed7953"
            ],
            [
             0.7777777777777778,
             "#fb9f3a"
            ],
            [
             0.8888888888888888,
             "#fdca26"
            ],
            [
             1,
             "#f0f921"
            ]
           ],
           "sequentialminus": [
            [
             0,
             "#0d0887"
            ],
            [
             0.1111111111111111,
             "#46039f"
            ],
            [
             0.2222222222222222,
             "#7201a8"
            ],
            [
             0.3333333333333333,
             "#9c179e"
            ],
            [
             0.4444444444444444,
             "#bd3786"
            ],
            [
             0.5555555555555556,
             "#d8576b"
            ],
            [
             0.6666666666666666,
             "#ed7953"
            ],
            [
             0.7777777777777778,
             "#fb9f3a"
            ],
            [
             0.8888888888888888,
             "#fdca26"
            ],
            [
             1,
             "#f0f921"
            ]
           ]
          },
          "colorway": [
           "#636efa",
           "#EF553B",
           "#00cc96",
           "#ab63fa",
           "#FFA15A",
           "#19d3f3",
           "#FF6692",
           "#B6E880",
           "#FF97FF",
           "#FECB52"
          ],
          "font": {
           "color": "#2a3f5f"
          },
          "geo": {
           "bgcolor": "white",
           "lakecolor": "white",
           "landcolor": "#E5ECF6",
           "showlakes": true,
           "showland": true,
           "subunitcolor": "white"
          },
          "hoverlabel": {
           "align": "left"
          },
          "hovermode": "closest",
          "mapbox": {
           "style": "light"
          },
          "paper_bgcolor": "white",
          "plot_bgcolor": "#E5ECF6",
          "polar": {
           "angularaxis": {
            "gridcolor": "white",
            "linecolor": "white",
            "ticks": ""
           },
           "bgcolor": "#E5ECF6",
           "radialaxis": {
            "gridcolor": "white",
            "linecolor": "white",
            "ticks": ""
           }
          },
          "scene": {
           "xaxis": {
            "backgroundcolor": "#E5ECF6",
            "gridcolor": "white",
            "gridwidth": 2,
            "linecolor": "white",
            "showbackground": true,
            "ticks": "",
            "zerolinecolor": "white"
           },
           "yaxis": {
            "backgroundcolor": "#E5ECF6",
            "gridcolor": "white",
            "gridwidth": 2,
            "linecolor": "white",
            "showbackground": true,
            "ticks": "",
            "zerolinecolor": "white"
           },
           "zaxis": {
            "backgroundcolor": "#E5ECF6",
            "gridcolor": "white",
            "gridwidth": 2,
            "linecolor": "white",
            "showbackground": true,
            "ticks": "",
            "zerolinecolor": "white"
           }
          },
          "shapedefaults": {
           "line": {
            "color": "#2a3f5f"
           }
          },
          "ternary": {
           "aaxis": {
            "gridcolor": "white",
            "linecolor": "white",
            "ticks": ""
           },
           "baxis": {
            "gridcolor": "white",
            "linecolor": "white",
            "ticks": ""
           },
           "bgcolor": "#E5ECF6",
           "caxis": {
            "gridcolor": "white",
            "linecolor": "white",
            "ticks": ""
           }
          },
          "title": {
           "x": 0.05
          },
          "xaxis": {
           "automargin": true,
           "gridcolor": "white",
           "linecolor": "white",
           "ticks": "",
           "title": {
            "standoff": 15
           },
           "zerolinecolor": "white",
           "zerolinewidth": 2
          },
          "yaxis": {
           "automargin": true,
           "gridcolor": "white",
           "linecolor": "white",
           "ticks": "",
           "title": {
            "standoff": 15
           },
           "zerolinecolor": "white",
           "zerolinewidth": 2
          }
         }
        },
        "title": {
         "text": "Loss by eliminated features"
        },
        "updatemenus": [
         {
          "active": 0,
          "buttons": [
           {
            "args": [
             {
              "visible": [
               true,
               true,
               false,
               false
              ]
             }
            ],
            "label": "Hide features",
            "method": "update"
           },
           {
            "args": [
             {
              "visible": [
               true,
               true,
               true,
               false
              ]
             }
            ],
            "label": "Show indices",
            "method": "update"
           },
           {
            "args": [
             {
              "visible": [
               true,
               true,
               false,
               true
              ]
             }
            ],
            "label": "Show names",
            "method": "update"
           }
          ],
          "pad": {
           "r": 10,
           "t": 10
          },
          "showactive": true,
          "x": -0.25,
          "xanchor": "left",
          "y": 1.03,
          "yanchor": "top"
         }
        ],
        "xaxis": {
         "gridcolor": "rgb(255,255,255)",
         "showgrid": true,
         "showline": false,
         "showticklabels": true,
         "tickcolor": "rgb(127,127,127)",
         "ticks": "outside",
         "title": {
          "text": "number of removed features"
         },
         "zeroline": false
        },
        "yaxis": {
         "gridcolor": "rgb(255,255,255)",
         "showgrid": true,
         "showline": false,
         "showticklabels": true,
         "tickcolor": "rgb(127,127,127)",
         "tickfont": {
          "color": "rgb(51,160,44)"
         },
         "ticks": "outside",
         "title": {
          "font": {
           "color": "rgb(51,160,44)"
          },
          "text": "loss value"
         },
         "zeroline": false
        }
       }
      }
     },
     "metadata": {},
     "output_type": "display_data"
    }
   ],
   "source": [
    "# Choose the best features selection algorithm\n",
    "\n",
    "summary = select_features_syntetic(EFeaturesSelectionAlgorithm.RecursiveByShapValues)"
   ]
  },
  {
   "cell_type": "code",
   "execution_count": 13,
   "metadata": {},
   "outputs": [
    {
     "data": {
      "text/plain": [
       "Index(['PSP', 'card', 'isof_flag', 'amount', 'day', 'hour', 'day_of_week'], dtype='object')"
      ]
     },
     "execution_count": 13,
     "metadata": {},
     "output_type": "execute_result"
    }
   ],
   "source": [
    "# Selected features \n",
    "\n",
    "selected_feat_names = X_train.columns[summary['selected_features']]\n",
    "\n",
    "selected_feat_names"
   ]
  },
  {
   "cell_type": "code",
   "execution_count": 14,
   "metadata": {},
   "outputs": [],
   "source": [
    "selected_cat_cols = [\"PSP\",\"card\",\"isof_flag\"]"
   ]
  },
  {
   "cell_type": "code",
   "execution_count": 15,
   "metadata": {},
   "outputs": [],
   "source": [
    "X_train = X_train[selected_feat_names]"
   ]
  },
  {
   "cell_type": "code",
   "execution_count": 16,
   "metadata": {},
   "outputs": [],
   "source": [
    "# Finetune Catboost with selected features\n",
    "\n",
    "import optuna\n",
    "from catboost import CatBoostClassifier\n",
    "from sklearn.metrics import f1_score\n",
    "\n",
    "\n",
    "def objective(trail):\n",
    "    params = {\n",
    "        'iterations': 1000,\n",
    "        'depth': trail.suggest_int('depth', 4, 10),\n",
    "        'learning_rate': trail.suggest_float('learning_rate', 1e-3, 1e-1,log=True),\n",
    "        'l2_leaf_reg': trail.suggest_float('l2_leaf_reg', 1e-3, 1e-1,log=True),\n",
    "        'border_count': trail.suggest_int('border_count', 32, 255),\n",
    "        'bagging_temperature': trail.suggest_float('bagging_temperature', 1e-3, 1e3,log=True),\n",
    "        'auto_class_weights': 'Balanced',\n",
    "        'cat_features': selected_cat_cols,\n",
    "        'verbose': 0\n",
    "    }\n",
    "\n",
    "    model = CatBoostClassifier(**params, loss_function='Logloss', eval_metric='F1')\n",
    "\n",
    "    model.fit(X_train, y_train, eval_set=(X_test[X_train.columns], y_test), early_stopping_rounds=30, verbose=0)\n",
    "\n",
    "    # evaluate with F1 score\n",
    "    y_pred = model.predict(X_test[X_train.columns])\n",
    "    f1 = f1_score(y_test, y_pred)\n",
    "\n",
    "    return f1\n",
    "   \n"
   ]
  },
  {
   "cell_type": "code",
   "execution_count": 17,
   "metadata": {},
   "outputs": [
    {
     "name": "stderr",
     "output_type": "stream",
     "text": [
      "[I 2024-04-24 07:11:01,205] A new study created in memory with name: no-name-e1e21e69-efb1-468b-916e-cd0cfcceea06\n",
      "[I 2024-04-24 07:11:04,909] Trial 0 finished with value: 0.40559440559440557 and parameters: {'depth': 6, 'learning_rate': 0.09845795209677062, 'l2_leaf_reg': 0.0028933471168838833, 'border_count': 202, 'bagging_temperature': 0.0023099965842471124}. Best is trial 0 with value: 0.40559440559440557.\n",
      "[I 2024-04-24 07:11:06,399] Trial 1 finished with value: 0.38385752178855626 and parameters: {'depth': 6, 'learning_rate': 0.014395980037735626, 'l2_leaf_reg': 0.08673139488543305, 'border_count': 109, 'bagging_temperature': 5.999356455626565}. Best is trial 0 with value: 0.40559440559440557.\n",
      "[I 2024-04-24 07:11:07,967] Trial 2 finished with value: 0.3728027815337068 and parameters: {'depth': 6, 'learning_rate': 0.011729043050482665, 'l2_leaf_reg': 0.00771489346476008, 'border_count': 232, 'bagging_temperature': 20.976171053837255}. Best is trial 0 with value: 0.40559440559440557.\n",
      "[I 2024-04-24 07:11:09,199] Trial 3 finished with value: 0.38298662704309067 and parameters: {'depth': 5, 'learning_rate': 0.0010575080294678999, 'l2_leaf_reg': 0.006837830257543957, 'border_count': 187, 'bagging_temperature': 8.40181858260154}. Best is trial 0 with value: 0.40559440559440557.\n",
      "[I 2024-04-24 07:11:13,576] Trial 4 finished with value: 0.40366636113657195 and parameters: {'depth': 7, 'learning_rate': 0.05061970521754615, 'l2_leaf_reg': 0.022770033717048253, 'border_count': 141, 'bagging_temperature': 944.3674655665617}. Best is trial 0 with value: 0.40559440559440557.\n",
      "[I 2024-04-24 07:11:15,237] Trial 5 finished with value: 0.38412291933418696 and parameters: {'depth': 7, 'learning_rate': 0.0032435350176062494, 'l2_leaf_reg': 0.09230604610801593, 'border_count': 50, 'bagging_temperature': 0.0031566559495348123}. Best is trial 0 with value: 0.40559440559440557.\n",
      "[I 2024-04-24 07:11:16,501] Trial 6 finished with value: 0.3565806333516383 and parameters: {'depth': 5, 'learning_rate': 0.008581379174757498, 'l2_leaf_reg': 0.024469535988619843, 'border_count': 220, 'bagging_temperature': 0.21428024340543683}. Best is trial 0 with value: 0.40559440559440557.\n",
      "[I 2024-04-24 07:11:24,082] Trial 7 finished with value: 0.4050212294628023 and parameters: {'depth': 8, 'learning_rate': 0.03407338795370515, 'l2_leaf_reg': 0.001838960821004315, 'border_count': 216, 'bagging_temperature': 0.018151785793100877}. Best is trial 0 with value: 0.40559440559440557.\n",
      "[I 2024-04-24 07:11:26,107] Trial 8 finished with value: 0.3889091572418825 and parameters: {'depth': 9, 'learning_rate': 0.0010507184722911606, 'l2_leaf_reg': 0.002671716198559222, 'border_count': 57, 'bagging_temperature': 0.025041992713898103}. Best is trial 0 with value: 0.40559440559440557.\n",
      "[I 2024-04-24 07:11:28,069] Trial 9 finished with value: 0.3875469672571122 and parameters: {'depth': 8, 'learning_rate': 0.0037405139711079436, 'l2_leaf_reg': 0.0022017393311260457, 'border_count': 58, 'bagging_temperature': 0.04039623668723784}. Best is trial 0 with value: 0.40559440559440557.\n",
      "[I 2024-04-24 07:11:29,294] Trial 10 finished with value: 0.36856814072003946 and parameters: {'depth': 4, 'learning_rate': 0.06702879122304262, 'l2_leaf_reg': 0.0012247013587812698, 'border_count': 168, 'bagging_temperature': 0.0015046678964482417}. Best is trial 0 with value: 0.40559440559440557.\n",
      "[I 2024-04-24 07:11:33,405] Trial 11 finished with value: 0.40323469950376767 and parameters: {'depth': 10, 'learning_rate': 0.09486913473218174, 'l2_leaf_reg': 0.003284281513934472, 'border_count': 247, 'bagging_temperature': 0.01108991568129541}. Best is trial 0 with value: 0.40559440559440557.\n",
      "[I 2024-04-24 07:11:42,926] Trial 12 finished with value: 0.4029987200585116 and parameters: {'depth': 8, 'learning_rate': 0.031017886222551586, 'l2_leaf_reg': 0.001112809664131098, 'border_count': 189, 'bagging_temperature': 0.23221120575262366}. Best is trial 0 with value: 0.40559440559440557.\n",
      "[I 2024-04-24 07:11:46,629] Trial 13 finished with value: 0.3875469672571122 and parameters: {'depth': 8, 'learning_rate': 0.02904208920047708, 'l2_leaf_reg': 0.0045017825397530116, 'border_count': 210, 'bagging_temperature': 0.001231151833140986}. Best is trial 0 with value: 0.40559440559440557.\n",
      "[I 2024-04-24 07:11:54,236] Trial 14 finished with value: 0.4051851851851852 and parameters: {'depth': 10, 'learning_rate': 0.03517113898121896, 'l2_leaf_reg': 0.0017459755567247504, 'border_count': 141, 'bagging_temperature': 0.1417584480110856}. Best is trial 0 with value: 0.40559440559440557.\n",
      "[I 2024-04-24 07:11:59,007] Trial 15 finished with value: 0.40640715216986406 and parameters: {'depth': 10, 'learning_rate': 0.09957374349420038, 'l2_leaf_reg': 0.01755125231167074, 'border_count': 120, 'bagging_temperature': 0.7302208190712183}. Best is trial 15 with value: 0.40640715216986406.\n",
      "[I 2024-04-24 07:12:02,632] Trial 16 finished with value: 0.40822429906542057 and parameters: {'depth': 6, 'learning_rate': 0.07294975570491746, 'l2_leaf_reg': 0.017156250359272655, 'border_count': 100, 'bagging_temperature': 136.97274344194105}. Best is trial 16 with value: 0.40822429906542057.\n",
      "[I 2024-04-24 07:12:06,647] Trial 17 finished with value: 0.4061470911086718 and parameters: {'depth': 9, 'learning_rate': 0.053289238163608296, 'l2_leaf_reg': 0.018408480469744717, 'border_count': 93, 'bagging_temperature': 238.1609552355858}. Best is trial 16 with value: 0.40822429906542057.\n",
      "[I 2024-04-24 07:12:07,790] Trial 18 finished with value: 0.36856814072003946 and parameters: {'depth': 4, 'learning_rate': 0.015695697265965414, 'l2_leaf_reg': 0.013685718242173836, 'border_count': 94, 'bagging_temperature': 2.5234765675671933}. Best is trial 16 with value: 0.40822429906542057.\n",
      "[I 2024-04-24 07:12:09,095] Trial 19 finished with value: 0.38298662704309067 and parameters: {'depth': 5, 'learning_rate': 0.006305698799287247, 'l2_leaf_reg': 0.04178160970217867, 'border_count': 108, 'bagging_temperature': 56.099772732483146}. Best is trial 16 with value: 0.40822429906542057.\n",
      "[I 2024-04-24 07:12:26,031] Trial 20 finished with value: 0.411398377052274 and parameters: {'depth': 9, 'learning_rate': 0.021417655315766802, 'l2_leaf_reg': 0.052648893308718886, 'border_count': 80, 'bagging_temperature': 0.8087118489450066}. Best is trial 20 with value: 0.411398377052274.\n",
      "[I 2024-04-24 07:12:32,650] Trial 21 finished with value: 0.4034163183717972 and parameters: {'depth': 9, 'learning_rate': 0.019839710889454014, 'l2_leaf_reg': 0.04300051178963484, 'border_count': 78, 'bagging_temperature': 0.6715768378967198}. Best is trial 20 with value: 0.411398377052274.\n",
      "[I 2024-04-24 07:12:37,550] Trial 22 finished with value: 0.4037900874635568 and parameters: {'depth': 10, 'learning_rate': 0.060070172015699363, 'l2_leaf_reg': 0.04126362981500787, 'border_count': 120, 'bagging_temperature': 0.9883525276242096}. Best is trial 20 with value: 0.411398377052274.\n",
      "[I 2024-04-24 07:12:44,588] Trial 23 finished with value: 0.41058359917432913 and parameters: {'depth': 9, 'learning_rate': 0.07272581292917267, 'l2_leaf_reg': 0.011200325522354202, 'border_count': 32, 'bagging_temperature': 62.548445821350384}. Best is trial 20 with value: 0.411398377052274.\n",
      "[I 2024-04-24 07:12:46,813] Trial 24 finished with value: 0.3889091572418825 and parameters: {'depth': 9, 'learning_rate': 0.020664383696144043, 'l2_leaf_reg': 0.008524903116242525, 'border_count': 34, 'bagging_temperature': 128.1832962049071}. Best is trial 20 with value: 0.411398377052274.\n",
      "[I 2024-04-24 07:12:53,634] Trial 25 finished with value: 0.4074828671976292 and parameters: {'depth': 7, 'learning_rate': 0.04442297353883084, 'l2_leaf_reg': 0.013373370816364876, 'border_count': 75, 'bagging_temperature': 908.2656428725661}. Best is trial 20 with value: 0.411398377052274.\n",
      "[I 2024-04-24 07:12:58,860] Trial 26 finished with value: 0.4077922077922078 and parameters: {'depth': 7, 'learning_rate': 0.0721729802418212, 'l2_leaf_reg': 0.060745040266746375, 'border_count': 38, 'bagging_temperature': 32.46305287169429}. Best is trial 20 with value: 0.411398377052274.\n",
      "[I 2024-04-24 07:13:06,174] Trial 27 finished with value: 0.40169522756587434 and parameters: {'depth': 9, 'learning_rate': 0.022481531763628052, 'l2_leaf_reg': 0.028501545960306872, 'border_count': 76, 'bagging_temperature': 307.8013811141139}. Best is trial 20 with value: 0.411398377052274.\n",
      "[I 2024-04-24 07:13:08,222] Trial 28 finished with value: 0.3875469672571122 and parameters: {'depth': 8, 'learning_rate': 0.004066521672342754, 'l2_leaf_reg': 0.011147584027533386, 'border_count': 67, 'bagging_temperature': 3.1706404727360566}. Best is trial 20 with value: 0.411398377052274.\n",
      "[I 2024-04-24 07:13:14,603] Trial 29 finished with value: 0.4065010274612367 and parameters: {'depth': 6, 'learning_rate': 0.07744371333774688, 'l2_leaf_reg': 0.004962908617955206, 'border_count': 92, 'bagging_temperature': 19.602574176763998}. Best is trial 20 with value: 0.411398377052274.\n",
      "[I 2024-04-24 07:13:16,452] Trial 30 finished with value: 0.38601084720403966 and parameters: {'depth': 7, 'learning_rate': 0.008462396409168774, 'l2_leaf_reg': 0.03139080600206538, 'border_count': 155, 'bagging_temperature': 64.49128779485243}. Best is trial 20 with value: 0.411398377052274.\n",
      "[I 2024-04-24 07:13:20,503] Trial 31 finished with value: 0.41009463722397477 and parameters: {'depth': 7, 'learning_rate': 0.0746856049173816, 'l2_leaf_reg': 0.06568735571241173, 'border_count': 35, 'bagging_temperature': 19.64874618853254}. Best is trial 20 with value: 0.411398377052274.\n",
      "[I 2024-04-24 07:13:22,113] Trial 32 finished with value: 0.38385752178855626 and parameters: {'depth': 6, 'learning_rate': 0.04530373657643468, 'l2_leaf_reg': 0.06269644898680678, 'border_count': 47, 'bagging_temperature': 7.785901775427179}. Best is trial 20 with value: 0.411398377052274.\n",
      "[I 2024-04-24 07:13:28,241] Trial 33 finished with value: 0.40675422138836775 and parameters: {'depth': 6, 'learning_rate': 0.07925097447593608, 'l2_leaf_reg': 0.06669662105820329, 'border_count': 32, 'bagging_temperature': 176.49793240878813}. Best is trial 20 with value: 0.411398377052274.\n",
      "[I 2024-04-24 07:13:33,166] Trial 34 finished with value: 0.4068106920541926 and parameters: {'depth': 7, 'learning_rate': 0.03997427297439402, 'l2_leaf_reg': 0.005961264373150312, 'border_count': 64, 'bagging_temperature': 23.60210930989011}. Best is trial 20 with value: 0.411398377052274.\n",
      "[I 2024-04-24 07:13:34,544] Trial 35 finished with value: 0.38298662704309067 and parameters: {'depth': 5, 'learning_rate': 0.01293774596532354, 'l2_leaf_reg': 0.053186892220895544, 'border_count': 46, 'bagging_temperature': 3.04935312987029}. Best is trial 20 with value: 0.411398377052274.\n",
      "[I 2024-04-24 07:13:36,126] Trial 36 finished with value: 0.3851236548989994 and parameters: {'depth': 6, 'learning_rate': 0.0016816754439133656, 'l2_leaf_reg': 0.07289564142257107, 'border_count': 106, 'bagging_temperature': 519.6529894100328}. Best is trial 20 with value: 0.411398377052274.\n",
      "[I 2024-04-24 07:13:40,476] Trial 37 finished with value: 0.4044170890658943 and parameters: {'depth': 8, 'learning_rate': 0.05946404778394898, 'l2_leaf_reg': 0.033657207730716045, 'border_count': 85, 'bagging_temperature': 13.500356017306645}. Best is trial 20 with value: 0.411398377052274.\n",
      "[I 2024-04-24 07:13:42,699] Trial 38 finished with value: 0.390944229707344 and parameters: {'depth': 9, 'learning_rate': 0.025814103606387893, 'l2_leaf_reg': 0.08387503289917596, 'border_count': 124, 'bagging_temperature': 83.18147986404603}. Best is trial 20 with value: 0.411398377052274.\n",
      "[I 2024-04-24 07:13:44,221] Trial 39 finished with value: 0.38298662704309067 and parameters: {'depth': 5, 'learning_rate': 0.0502950098118707, 'l2_leaf_reg': 0.019440061801812028, 'border_count': 48, 'bagging_temperature': 5.6156775125482845}. Best is trial 20 with value: 0.411398377052274.\n",
      "[I 2024-04-24 07:13:48,286] Trial 40 finished with value: 0.40399636693914626 and parameters: {'depth': 7, 'learning_rate': 0.042554496751475226, 'l2_leaf_reg': 0.09838214016444559, 'border_count': 64, 'bagging_temperature': 39.53801253930166}. Best is trial 20 with value: 0.411398377052274.\n",
      "[I 2024-04-24 07:13:54,792] Trial 41 finished with value: 0.4069247952345495 and parameters: {'depth': 7, 'learning_rate': 0.07775499427401653, 'l2_leaf_reg': 0.05744123946425553, 'border_count': 38, 'bagging_temperature': 32.02681705685663}. Best is trial 20 with value: 0.411398377052274.\n",
      "[I 2024-04-24 07:14:02,846] Trial 42 finished with value: 0.4080868588543617 and parameters: {'depth': 6, 'learning_rate': 0.06718369310977301, 'l2_leaf_reg': 0.009205671477985494, 'border_count': 43, 'bagging_temperature': 102.888868397209}. Best is trial 20 with value: 0.411398377052274.\n",
      "[I 2024-04-24 07:14:09,087] Trial 43 finished with value: 0.408561772437101 and parameters: {'depth': 6, 'learning_rate': 0.09554274153164069, 'l2_leaf_reg': 0.008528164820192224, 'border_count': 55, 'bagging_temperature': 300.4622601247988}. Best is trial 20 with value: 0.411398377052274.\n",
      "[I 2024-04-24 07:14:13,888] Trial 44 finished with value: 0.40782851817334576 and parameters: {'depth': 6, 'learning_rate': 0.09743735915605475, 'l2_leaf_reg': 0.011368372362982366, 'border_count': 56, 'bagging_temperature': 400.1880091426031}. Best is trial 20 with value: 0.411398377052274.\n",
      "[I 2024-04-24 07:14:19,791] Trial 45 finished with value: 0.4077922077922078 and parameters: {'depth': 5, 'learning_rate': 0.08385938184945492, 'l2_leaf_reg': 0.006468962965847975, 'border_count': 57, 'bagging_temperature': 638.5517637872877}. Best is trial 20 with value: 0.411398377052274.\n",
      "[I 2024-04-24 07:14:25,753] Trial 46 finished with value: 0.4073592269094964 and parameters: {'depth': 6, 'learning_rate': 0.06007476884028323, 'l2_leaf_reg': 0.0035139504292662715, 'border_count': 76, 'bagging_temperature': 0.3589551065794391}. Best is trial 20 with value: 0.411398377052274.\n",
      "[I 2024-04-24 07:14:27,746] Trial 47 finished with value: 0.3875469672571122 and parameters: {'depth': 8, 'learning_rate': 0.0365868645433401, 'l2_leaf_reg': 0.014581231116619405, 'border_count': 67, 'bagging_temperature': 0.06951238712704481}. Best is trial 20 with value: 0.411398377052274.\n",
      "[I 2024-04-24 07:14:33,982] Trial 48 finished with value: 0.4075568598679384 and parameters: {'depth': 7, 'learning_rate': 0.029656577365222866, 'l2_leaf_reg': 0.007221944025836164, 'border_count': 54, 'bagging_temperature': 133.13696557430322}. Best is trial 20 with value: 0.411398377052274.\n",
      "[I 2024-04-24 07:14:38,542] Trial 49 finished with value: 0.40367985280588775 and parameters: {'depth': 8, 'learning_rate': 0.0538339159569497, 'l2_leaf_reg': 0.02796617464619213, 'border_count': 101, 'bagging_temperature': 2.0945525902741626}. Best is trial 20 with value: 0.411398377052274.\n",
      "[I 2024-04-24 07:14:40,961] Trial 50 finished with value: 0.39005046863734677 and parameters: {'depth': 10, 'learning_rate': 0.015544018551211672, 'l2_leaf_reg': 0.02286551951895507, 'border_count': 131, 'bagging_temperature': 15.237377331692665}. Best is trial 20 with value: 0.411398377052274.\n",
      "[I 2024-04-24 07:14:46,656] Trial 51 finished with value: 0.40629095674967236 and parameters: {'depth': 6, 'learning_rate': 0.06934056551741001, 'l2_leaf_reg': 0.009117530650421105, 'border_count': 48, 'bagging_temperature': 91.05700163717412}. Best is trial 20 with value: 0.411398377052274.\n",
      "[I 2024-04-24 07:14:53,427] Trial 52 finished with value: 0.4080868588543617 and parameters: {'depth': 5, 'learning_rate': 0.09881070340602684, 'l2_leaf_reg': 0.010005266048879339, 'border_count': 32, 'bagging_temperature': 218.29870418990762}. Best is trial 20 with value: 0.411398377052274.\n",
      "[I 2024-04-24 07:15:00,318] Trial 53 finished with value: 0.4100922613443796 and parameters: {'depth': 6, 'learning_rate': 0.0616233199934099, 'l2_leaf_reg': 0.003968820935495149, 'border_count': 41, 'bagging_temperature': 130.49203684449384}. Best is trial 20 with value: 0.411398377052274.\n",
      "[I 2024-04-24 07:15:05,473] Trial 54 finished with value: 0.4070500927643785 and parameters: {'depth': 6, 'learning_rate': 0.0817045887972854, 'l2_leaf_reg': 0.005702782733655768, 'border_count': 68, 'bagging_temperature': 51.19696053751349}. Best is trial 20 with value: 0.411398377052274.\n",
      "[I 2024-04-24 07:15:12,396] Trial 55 finished with value: 0.41085703662390777 and parameters: {'depth': 9, 'learning_rate': 0.05155053148010192, 'l2_leaf_reg': 0.004206721511105206, 'border_count': 84, 'bagging_temperature': 311.1103335324049}. Best is trial 20 with value: 0.411398377052274.\n",
      "[I 2024-04-24 07:15:19,374] Trial 56 finished with value: 0.40819394850591995 and parameters: {'depth': 9, 'learning_rate': 0.04785768969359568, 'l2_leaf_reg': 0.004104431576964014, 'border_count': 87, 'bagging_temperature': 327.2500396543409}. Best is trial 20 with value: 0.411398377052274.\n",
      "[I 2024-04-24 07:15:27,121] Trial 57 finished with value: 0.4107782174486527 and parameters: {'depth': 9, 'learning_rate': 0.05940425718248497, 'l2_leaf_reg': 0.0023534826901401803, 'border_count': 42, 'bagging_temperature': 922.4080050780979}. Best is trial 20 with value: 0.411398377052274.\n",
      "[I 2024-04-24 07:15:29,218] Trial 58 finished with value: 0.38999637549836896 and parameters: {'depth': 9, 'learning_rate': 0.03543208002524661, 'l2_leaf_reg': 0.0026725438277478792, 'border_count': 41, 'bagging_temperature': 0.43326058845773546}. Best is trial 20 with value: 0.411398377052274.\n",
      "[I 2024-04-24 07:15:35,869] Trial 59 finished with value: 0.4039136053165959 and parameters: {'depth': 9, 'learning_rate': 0.024552532184858363, 'l2_leaf_reg': 0.0020693218934619965, 'border_count': 151, 'bagging_temperature': 656.3528573589044}. Best is trial 20 with value: 0.411398377052274.\n",
      "[I 2024-04-24 07:15:38,262] Trial 60 finished with value: 0.3952074391988555 and parameters: {'depth': 10, 'learning_rate': 0.05772907843302872, 'l2_leaf_reg': 0.0014809577378192247, 'border_count': 83, 'bagging_temperature': 0.009391036789024464}. Best is trial 20 with value: 0.411398377052274.\n",
      "[I 2024-04-24 07:15:43,586] Trial 61 finished with value: 0.40674789128397376 and parameters: {'depth': 9, 'learning_rate': 0.06525999223831212, 'l2_leaf_reg': 0.0031665025284505245, 'border_count': 53, 'bagging_temperature': 226.1354165580486}. Best is trial 20 with value: 0.411398377052274.\n",
      "[I 2024-04-24 07:15:50,390] Trial 62 finished with value: 0.4109795074262079 and parameters: {'depth': 8, 'learning_rate': 0.08929947666634923, 'l2_leaf_reg': 0.0024356933870622577, 'border_count': 39, 'bagging_temperature': 955.2192398712122}. Best is trial 20 with value: 0.411398377052274.\n",
      "[I 2024-04-24 07:15:59,693] Trial 63 finished with value: 0.4098820887142055 and parameters: {'depth': 8, 'learning_rate': 0.05399963305275885, 'l2_leaf_reg': 0.0022870798626849305, 'border_count': 37, 'bagging_temperature': 973.6738241264943}. Best is trial 20 with value: 0.411398377052274.\n",
      "[I 2024-04-24 07:16:04,292] Trial 64 finished with value: 0.4028307022318998 and parameters: {'depth': 9, 'learning_rate': 0.009544193151413772, 'l2_leaf_reg': 0.0015145422604599939, 'border_count': 43, 'bagging_temperature': 177.04172239036075}. Best is trial 20 with value: 0.411398377052274.\n",
      "[I 2024-04-24 07:16:08,456] Trial 65 finished with value: 0.40781073976717985 and parameters: {'depth': 8, 'learning_rate': 0.08606682381352725, 'l2_leaf_reg': 0.0042800007933341214, 'border_count': 32, 'bagging_temperature': 464.6172472056585}. Best is trial 20 with value: 0.411398377052274.\n",
      "[I 2024-04-24 07:16:14,237] Trial 66 finished with value: 0.4009581721024507 and parameters: {'depth': 9, 'learning_rate': 0.04128316530146094, 'l2_leaf_reg': 0.002437857413100486, 'border_count': 61, 'bagging_temperature': 954.8049602360775}. Best is trial 20 with value: 0.411398377052274.\n",
      "[I 2024-04-24 07:16:21,421] Trial 67 finished with value: 0.4010978956999085 and parameters: {'depth': 10, 'learning_rate': 0.018908462020390582, 'l2_leaf_reg': 0.0010162483445977546, 'border_count': 175, 'bagging_temperature': 1.7891233860779288}. Best is trial 20 with value: 0.411398377052274.\n",
      "[I 2024-04-24 07:16:23,236] Trial 68 finished with value: 0.38556736970542094 and parameters: {'depth': 8, 'learning_rate': 0.03138954234025869, 'l2_leaf_reg': 0.0035413770016701515, 'border_count': 71, 'bagging_temperature': 1.3067741795955687}. Best is trial 20 with value: 0.411398377052274.\n",
      "[I 2024-04-24 07:16:28,654] Trial 69 finished with value: 0.40789473684210525 and parameters: {'depth': 9, 'learning_rate': 0.06944373123031199, 'l2_leaf_reg': 0.0029194811566159882, 'border_count': 237, 'bagging_temperature': 604.8651143502292}. Best is trial 20 with value: 0.411398377052274.\n",
      "[I 2024-04-24 07:16:30,581] Trial 70 finished with value: 0.3878392305049811 and parameters: {'depth': 8, 'learning_rate': 0.048285918251283894, 'l2_leaf_reg': 0.001959529920633264, 'border_count': 40, 'bagging_temperature': 61.453841031050004}. Best is trial 20 with value: 0.411398377052274.\n",
      "[I 2024-04-24 07:16:34,914] Trial 71 finished with value: 0.4064230343300111 and parameters: {'depth': 8, 'learning_rate': 0.061787066863427005, 'l2_leaf_reg': 0.002343248580263726, 'border_count': 39, 'bagging_temperature': 934.690716947647}. Best is trial 20 with value: 0.411398377052274.\n",
      "[I 2024-04-24 07:16:40,733] Trial 72 finished with value: 0.40884593941646535 and parameters: {'depth': 9, 'learning_rate': 0.055835979387946696, 'l2_leaf_reg': 0.0013345190817190251, 'border_count': 50, 'bagging_temperature': 359.5610863201438}. Best is trial 20 with value: 0.411398377052274.\n",
      "[I 2024-04-24 07:16:46,198] Trial 73 finished with value: 0.4068483063328424 and parameters: {'depth': 8, 'learning_rate': 0.040018363516900315, 'l2_leaf_reg': 0.005156867151953362, 'border_count': 39, 'bagging_temperature': 685.1649453014581}. Best is trial 20 with value: 0.411398377052274.\n",
      "[I 2024-04-24 07:16:49,585] Trial 74 finished with value: 0.40367316341829085 and parameters: {'depth': 9, 'learning_rate': 0.08652922387547068, 'l2_leaf_reg': 0.0016433960046516331, 'border_count': 48, 'bagging_temperature': 155.87557298164003}. Best is trial 20 with value: 0.411398377052274.\n",
      "[I 2024-04-24 07:16:51,852] Trial 75 finished with value: 0.3890577507598784 and parameters: {'depth': 10, 'learning_rate': 0.006462321838775361, 'l2_leaf_reg': 0.048134353059002793, 'border_count': 61, 'bagging_temperature': 464.4440615817768}. Best is trial 20 with value: 0.411398377052274.\n",
      "[I 2024-04-24 07:16:55,657] Trial 76 finished with value: 0.4077706525839306 and parameters: {'depth': 7, 'learning_rate': 0.07287027376077755, 'l2_leaf_reg': 0.0039518235758992555, 'border_count': 32, 'bagging_temperature': 4.447122131360504}. Best is trial 20 with value: 0.411398377052274.\n",
      "[I 2024-04-24 07:16:57,580] Trial 77 finished with value: 0.39176328084443673 and parameters: {'depth': 8, 'learning_rate': 0.05268795917558444, 'l2_leaf_reg': 0.002659313578427328, 'border_count': 198, 'bagging_temperature': 273.218747040001}. Best is trial 20 with value: 0.411398377052274.\n",
      "[I 2024-04-24 07:17:02,013] Trial 78 finished with value: 0.40457599418921375 and parameters: {'depth': 9, 'learning_rate': 0.04599262654669393, 'l2_leaf_reg': 0.07947480651082352, 'border_count': 114, 'bagging_temperature': 0.13359363765521953}. Best is trial 20 with value: 0.411398377052274.\n",
      "[I 2024-04-24 07:17:04,810] Trial 79 finished with value: 0.40294117647058825 and parameters: {'depth': 7, 'learning_rate': 0.08705873515419163, 'l2_leaf_reg': 0.0050081568342242545, 'border_count': 45, 'bagging_temperature': 976.788155656737}. Best is trial 20 with value: 0.411398377052274.\n",
      "[I 2024-04-24 07:17:07,028] Trial 80 finished with value: 0.39025257915332623 and parameters: {'depth': 10, 'learning_rate': 0.0017859242096978376, 'l2_leaf_reg': 0.03568043687495249, 'border_count': 71, 'bagging_temperature': 10.413184055063235}. Best is trial 20 with value: 0.411398377052274.\n",
      "[I 2024-04-24 07:17:10,009] Trial 81 finished with value: 0.4032023289665211 and parameters: {'depth': 9, 'learning_rate': 0.054706201156362794, 'l2_leaf_reg': 0.001341687932317653, 'border_count': 51, 'bagging_temperature': 368.90399993652295}. Best is trial 20 with value: 0.411398377052274.\n",
      "[I 2024-04-24 07:17:17,534] Trial 82 finished with value: 0.41159856900771985 and parameters: {'depth': 9, 'learning_rate': 0.0602316495918075, 'l2_leaf_reg': 0.0018478787432004175, 'border_count': 36, 'bagging_temperature': 89.83422315155548}. Best is trial 82 with value: 0.41159856900771985.\n",
      "[I 2024-04-24 07:17:20,660] Trial 83 finished with value: 0.40753740993903564 and parameters: {'depth': 9, 'learning_rate': 0.06388200098161297, 'l2_leaf_reg': 0.0018238062326199173, 'border_count': 43, 'bagging_temperature': 94.44706712137985}. Best is trial 82 with value: 0.41159856900771985.\n",
      "[I 2024-04-24 07:17:23,191] Trial 84 finished with value: 0.4048140043763676 and parameters: {'depth': 8, 'learning_rate': 0.07688511047492881, 'l2_leaf_reg': 0.0022299655560087998, 'border_count': 36, 'bagging_temperature': 24.882421208509584}. Best is trial 82 with value: 0.41159856900771985.\n",
      "[I 2024-04-24 07:17:25,235] Trial 85 finished with value: 0.39045151739452255 and parameters: {'depth': 9, 'learning_rate': 0.038355318539517756, 'l2_leaf_reg': 0.0025980944616497623, 'border_count': 59, 'bagging_temperature': 201.57026404778748}. Best is trial 82 with value: 0.41159856900771985.\n",
      "[I 2024-04-24 07:17:29,192] Trial 86 finished with value: 0.4044077134986226 and parameters: {'depth': 9, 'learning_rate': 0.06497661671663775, 'l2_leaf_reg': 0.003108091509144887, 'border_count': 37, 'bagging_temperature': 135.5905168518523}. Best is trial 82 with value: 0.41159856900771985.\n",
      "[I 2024-04-24 07:17:38,533] Trial 87 finished with value: 0.40878378378378377 and parameters: {'depth': 9, 'learning_rate': 0.03290495685236734, 'l2_leaf_reg': 0.002033008394562074, 'border_count': 51, 'bagging_temperature': 74.69209341861105}. Best is trial 82 with value: 0.41159856900771985.\n",
      "[I 2024-04-24 07:17:40,151] Trial 88 finished with value: 0.3881442325844818 and parameters: {'depth': 7, 'learning_rate': 0.027125801782065764, 'l2_leaf_reg': 0.0016675447202809015, 'border_count': 80, 'bagging_temperature': 38.357196746442}. Best is trial 82 with value: 0.41159856900771985.\n",
      "[I 2024-04-24 07:17:42,368] Trial 89 finished with value: 0.38976945244956773 and parameters: {'depth': 10, 'learning_rate': 0.05027225160240457, 'l2_leaf_reg': 0.003726620448724756, 'border_count': 44, 'bagging_temperature': 651.9929539058138}. Best is trial 82 with value: 0.41159856900771985.\n",
      "[I 2024-04-24 07:17:46,275] Trial 90 finished with value: 0.40438173041217973 and parameters: {'depth': 8, 'learning_rate': 0.08998915113702542, 'l2_leaf_reg': 0.06900413741775403, 'border_count': 37, 'bagging_temperature': 48.38935756985969}. Best is trial 82 with value: 0.41159856900771985.\n",
      "[I 2024-04-24 07:17:50,255] Trial 91 finished with value: 0.40388491845336266 and parameters: {'depth': 9, 'learning_rate': 0.05442877167190192, 'l2_leaf_reg': 0.0013406225285669644, 'border_count': 52, 'bagging_temperature': 379.54956825490837}. Best is trial 82 with value: 0.41159856900771985.\n",
      "[I 2024-04-24 07:17:54,515] Trial 92 finished with value: 0.4060483127420247 and parameters: {'depth': 9, 'learning_rate': 0.07397025945576277, 'l2_leaf_reg': 0.0011273577337134544, 'border_count': 48, 'bagging_temperature': 277.11606701921806}. Best is trial 82 with value: 0.41159856900771985.\n",
      "[I 2024-04-24 07:18:01,074] Trial 93 finished with value: 0.41057367829021374 and parameters: {'depth': 9, 'learning_rate': 0.05828182848856118, 'l2_leaf_reg': 0.0013493006623297864, 'border_count': 57, 'bagging_temperature': 0.7044007681123655}. Best is trial 82 with value: 0.41159856900771985.\n",
      "[I 2024-04-24 07:18:05,715] Trial 94 finished with value: 0.4031432748538012 and parameters: {'depth': 9, 'learning_rate': 0.04538373654364519, 'l2_leaf_reg': 0.0019467295653045195, 'border_count': 64, 'bagging_temperature': 0.30781311198416866}. Best is trial 82 with value: 0.41159856900771985.\n",
      "[I 2024-04-24 07:18:07,552] Trial 95 finished with value: 0.3909826191705386 and parameters: {'depth': 8, 'learning_rate': 0.059654752726853645, 'l2_leaf_reg': 0.002973627796898158, 'border_count': 56, 'bagging_temperature': 0.6977982957247224}. Best is trial 82 with value: 0.41159856900771985.\n",
      "[I 2024-04-24 07:18:11,158] Trial 96 finished with value: 0.40456890198968315 and parameters: {'depth': 9, 'learning_rate': 0.0797877950951833, 'l2_leaf_reg': 0.0021732512131425567, 'border_count': 91, 'bagging_temperature': 0.545654188441222}. Best is trial 82 with value: 0.41159856900771985.\n",
      "[I 2024-04-24 07:18:16,654] Trial 97 finished with value: 0.4052093023255814 and parameters: {'depth': 10, 'learning_rate': 0.043127741195270484, 'l2_leaf_reg': 0.001587054426807891, 'border_count': 35, 'bagging_temperature': 113.9959954486044}. Best is trial 82 with value: 0.41159856900771985.\n",
      "[I 2024-04-24 07:18:17,818] Trial 98 finished with value: 0.3666450356911097 and parameters: {'depth': 4, 'learning_rate': 0.011515861357788131, 'l2_leaf_reg': 0.0017826602482572086, 'border_count': 99, 'bagging_temperature': 1.4114669399154853}. Best is trial 82 with value: 0.41159856900771985.\n",
      "[I 2024-04-24 07:18:19,874] Trial 99 finished with value: 0.3889091572418825 and parameters: {'depth': 9, 'learning_rate': 0.01799802179402821, 'l2_leaf_reg': 0.004717684611758926, 'border_count': 45, 'bagging_temperature': 751.8971781643312}. Best is trial 82 with value: 0.41159856900771985.\n"
     ]
    }
   ],
   "source": [
    "study = optuna.create_study(direction='maximize')\n",
    "study.optimize(objective, n_trials=100)"
   ]
  },
  {
   "cell_type": "code",
   "execution_count": 21,
   "metadata": {},
   "outputs": [
    {
     "name": "stdout",
     "output_type": "stream",
     "text": [
      "Best Params {'depth': 9, 'learning_rate': 0.0602316495918075, 'l2_leaf_reg': 0.0018478787432004175, 'border_count': 36, 'bagging_temperature': 89.83422315155548}\n"
     ]
    }
   ],
   "source": [
    "# Best Param and save the best model \n",
    "\n",
    "best_params = study.best_params\n",
    "print(\"Best Params\", best_params)\n",
    "\n",
    "best_model = CatBoostClassifier(**best_params, loss_function='Logloss', eval_metric='F1',cat_features=selected_cat_cols, auto_class_weights='Balanced',iterations=1000)\n",
    "best_model.fit(X_train, y_train, eval_set=(X_test[X_train.columns], y_test), early_stopping_rounds=30, verbose=0)\n",
    "\n",
    "# Save the model\n",
    "best_model.save_model(\"best_model.cbm\")\n"
   ]
  },
  {
   "cell_type": "code",
   "execution_count": 22,
   "metadata": {},
   "outputs": [
    {
     "data": {
      "text/plain": [
       "<catboost.core.CatBoostClassifier at 0x2478019b150>"
      ]
     },
     "execution_count": 22,
     "metadata": {},
     "output_type": "execute_result"
    }
   ],
   "source": [
    "# Load the best model \n",
    "\n",
    "best_model = CatBoostClassifier()\n",
    "best_model.load_model(\"models/best_model.cbm\")\n"
   ]
  },
  {
   "cell_type": "code",
   "execution_count": 23,
   "metadata": {},
   "outputs": [
    {
     "name": "stdout",
     "output_type": "stream",
     "text": [
      "              precision    recall  f1-score   support\n",
      "\n",
      "           0       0.88      0.55      0.68      6028\n",
      "           1       0.29      0.71      0.41      1534\n",
      "\n",
      "    accuracy                           0.59      7562\n",
      "   macro avg       0.59      0.63      0.55      7562\n",
      "weighted avg       0.76      0.59      0.63      7562\n",
      "\n",
      "F1 Score 0.41159856900771985\n",
      "Accuracy 0.5867495371594816\n",
      "Confusion Matrix [[3344 2684]\n",
      " [ 441 1093]]\n",
      "ROC AUC 0.6550083205795811\n"
     ]
    }
   ],
   "source": [
    "# Print the classification report\n",
    "\n",
    "print(classification_report(y_test, best_model.predict(X_test[selected_feat_names])))\n",
    "print(\"F1 Score\", f1_score(y_test, best_model.predict(X_test[selected_feat_names])))\n",
    "print(\"Accuracy\", accuracy_score(y_test, best_model.predict(X_test[selected_feat_names])))\n",
    "print(\"Confusion Matrix\", confusion_matrix(y_test, best_model.predict(X_test[selected_feat_names])))\n",
    "print(\"ROC AUC\", roc_auc_score(y_test, best_model.predict_proba(X_test[selected_feat_names])[:, 1]))\n",
    "\n"
   ]
  },
  {
   "cell_type": "code",
   "execution_count": null,
   "metadata": {},
   "outputs": [],
   "source": []
  }
 ],
 "metadata": {
  "kernelspec": {
   "display_name": "mlcpu",
   "language": "python",
   "name": "python3"
  },
  "language_info": {
   "codemirror_mode": {
    "name": "ipython",
    "version": 3
   },
   "file_extension": ".py",
   "mimetype": "text/x-python",
   "name": "python",
   "nbconvert_exporter": "python",
   "pygments_lexer": "ipython3",
   "version": "3.11.5"
  }
 },
 "nbformat": 4,
 "nbformat_minor": 2
}
